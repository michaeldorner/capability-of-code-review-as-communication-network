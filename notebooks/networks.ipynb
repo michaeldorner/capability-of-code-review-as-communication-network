{
 "cells": [
  {
   "cell_type": "code",
   "execution_count": 1,
   "metadata": {},
   "outputs": [],
   "source": [
    "from pathlib import Path\n",
    "import sys\n",
    "import bz2\n",
    "\n",
    "import pandas as pd\n",
    "import orjson\n",
    "\n",
    "sys.path.append(str(Path('../').resolve()))\n",
    "\n",
    "from simulation.model import CommunicationNetwork"
   ]
  },
  {
   "cell_type": "code",
   "execution_count": 2,
   "metadata": {},
   "outputs": [],
   "source": [
    "def load_channels(data_path):\n",
    "    with open(data_path, 'rb') as file:\n",
    "        d = orjson.loads(bz2.decompress(file.read()))\n",
    "    df = pd.DataFrame.from_dict(d, orient='index')\n",
    "    df.start = pd.to_datetime(df.start)\n",
    "    df.end = pd.to_datetime(df.end)\n",
    "    df.bound = df.bound.astype('category')\n",
    "    return df"
   ]
  },
  {
   "cell_type": "code",
   "execution_count": 3,
   "metadata": {},
   "outputs": [],
   "source": [
    "communication_networks = {\n",
    "    'Android': CommunicationNetwork.from_json(Path('../data/networks/android.json.bz2')),\n",
    "    'Visual Studio Code': CommunicationNetwork.from_json(Path('../data/networks/vscode.json.bz2')),\n",
    "    'React': CommunicationNetwork.from_json(Path('../data/networks/react.json.bz2')),\n",
    "    'Microsoft': CommunicationNetwork.from_json(Path('../data/networks/microsoft.json.bz2')),\n",
    "    'Spotify': CommunicationNetwork.from_json(Path('../data/networks/spotify.json.bz2')),\n",
    "    'Trivago': CommunicationNetwork.from_json(Path('../data/networks/trivago.json.bz2')), \n",
    "}"
   ]
  },
  {
   "cell_type": "code",
   "execution_count": 4,
   "metadata": {},
   "outputs": [
    {
     "name": "stdout",
     "output_type": "stream",
     "text": [
      "Android & large & \\num{10279} & \\num{1793} & Gerrit \\\\\n",
      "Visual Studio Code & mid-sized & \\num{802} & \\num{162} & GitHub \\\\\n",
      "React & small & \\num{229} & \\num{64} & GitHub \\\\\n",
      "Microsoft & large & \\num{309740} & \\num{37103} & CodeFlow \\\\\n",
      "Spotify & mid-sized & \\num{22504} & \\num{1730} & GitHub \\\\\n",
      "Trivago & small & \\num{2442} & \\num{364} & BitBucket \\\\\n"
     ]
    }
   ],
   "source": [
    "code_review_tools = {\n",
    "    'Microsoft': 'CodeFlow',\n",
    "    'Spotify': 'GitHub', \n",
    "    'Trivago': 'BitBucket', \n",
    "    'Android': 'Gerrit',\n",
    "    'Visual Studio Code': 'GitHub',\n",
    "    'React': 'GitHub',\n",
    "}\n",
    "classification = {\n",
    "    'Microsoft': 'large',\n",
    "    'Spotify': 'mid-sized', \n",
    "    'Trivago': 'small',\n",
    "    'Android': 'large',\n",
    "    'Visual Studio Code': 'mid-sized',\n",
    "    'React': 'small',\n",
    "}\n",
    "for name, cn in communication_networks.items():\n",
    "    num_channels = len(cn.channels())\n",
    "    num_participants = len(cn.participants())\n",
    "    print(f'{name} & {classification[name]} & \\\\num{{{num_channels}}} & \\\\num{{{num_participants}}} & {code_review_tools[name]} \\\\\\\\')"
   ]
  },
  {
   "cell_type": "code",
   "execution_count": 5,
   "metadata": {},
   "outputs": [
    {
     "data": {
      "text/html": [
       "<div>\n",
       "<style scoped>\n",
       "    .dataframe tbody tr th:only-of-type {\n",
       "        vertical-align: middle;\n",
       "    }\n",
       "\n",
       "    .dataframe tbody tr th {\n",
       "        vertical-align: top;\n",
       "    }\n",
       "\n",
       "    .dataframe thead th {\n",
       "        text-align: right;\n",
       "    }\n",
       "</style>\n",
       "<table border=\"1\" class=\"dataframe\">\n",
       "  <thead>\n",
       "    <tr style=\"text-align: right;\">\n",
       "      <th></th>\n",
       "      <th>name</th>\n",
       "      <th>num_code_reviews</th>\n",
       "    </tr>\n",
       "  </thead>\n",
       "  <tbody>\n",
       "    <tr>\n",
       "      <th>12051</th>\n",
       "      <td>Microsoft</td>\n",
       "      <td>8249</td>\n",
       "    </tr>\n",
       "    <tr>\n",
       "      <th>26945</th>\n",
       "      <td>Microsoft</td>\n",
       "      <td>7691</td>\n",
       "    </tr>\n",
       "    <tr>\n",
       "      <th>18639</th>\n",
       "      <td>Microsoft</td>\n",
       "      <td>6684</td>\n",
       "    </tr>\n",
       "    <tr>\n",
       "      <th>10664</th>\n",
       "      <td>Microsoft</td>\n",
       "      <td>2040</td>\n",
       "    </tr>\n",
       "    <tr>\n",
       "      <th>21794</th>\n",
       "      <td>Microsoft</td>\n",
       "      <td>1056</td>\n",
       "    </tr>\n",
       "    <tr>\n",
       "      <th>16723</th>\n",
       "      <td>Microsoft</td>\n",
       "      <td>1008</td>\n",
       "    </tr>\n",
       "    <tr>\n",
       "      <th>2193</th>\n",
       "      <td>Microsoft</td>\n",
       "      <td>630</td>\n",
       "    </tr>\n",
       "    <tr>\n",
       "      <th>17225</th>\n",
       "      <td>Microsoft</td>\n",
       "      <td>605</td>\n",
       "    </tr>\n",
       "    <tr>\n",
       "      <th>27706</th>\n",
       "      <td>Microsoft</td>\n",
       "      <td>592</td>\n",
       "    </tr>\n",
       "    <tr>\n",
       "      <th>32990</th>\n",
       "      <td>Microsoft</td>\n",
       "      <td>582</td>\n",
       "    </tr>\n",
       "    <tr>\n",
       "      <th>26622</th>\n",
       "      <td>Microsoft</td>\n",
       "      <td>576</td>\n",
       "    </tr>\n",
       "    <tr>\n",
       "      <th>34464</th>\n",
       "      <td>Microsoft</td>\n",
       "      <td>568</td>\n",
       "    </tr>\n",
       "    <tr>\n",
       "      <th>35285</th>\n",
       "      <td>Microsoft</td>\n",
       "      <td>539</td>\n",
       "    </tr>\n",
       "    <tr>\n",
       "      <th>39705</th>\n",
       "      <td>Spotify</td>\n",
       "      <td>447</td>\n",
       "    </tr>\n",
       "  </tbody>\n",
       "</table>\n",
       "</div>"
      ],
      "text/plain": [
       "            name  num_code_reviews\n",
       "12051  Microsoft              8249\n",
       "26945  Microsoft              7691\n",
       "18639  Microsoft              6684\n",
       "10664  Microsoft              2040\n",
       "21794  Microsoft              1056\n",
       "16723  Microsoft              1008\n",
       "2193   Microsoft               630\n",
       "17225  Microsoft               605\n",
       "27706  Microsoft               592\n",
       "32990  Microsoft               582\n",
       "26622  Microsoft               576\n",
       "34464  Microsoft               568\n",
       "35285  Microsoft               539\n",
       "39705    Spotify               447"
      ]
     },
     "execution_count": 5,
     "metadata": {},
     "output_type": "execute_result"
    }
   ],
   "source": [
    "results = []\n",
    "for name, cn in communication_networks.items():\n",
    "    results += [pd.DataFrame([(name, len(cn.channels(participant))) for participant in cn.participants()], columns=['name', 'num_code_reviews'])]\n",
    "df = pd.concat(results).reset_index(drop=True)\n",
    "df.sort_values('num_code_reviews', ascending=False).head(14)"
   ]
  },
  {
   "cell_type": "code",
   "execution_count": 6,
   "metadata": {},
   "outputs": [],
   "source": [
    "bounds = pd.concat([load_channels(Path(f'../data/networks/{name}.json.bz2')).bound.value_counts(normalize=True).rename(name.capitalize()) for name in ('android', 'vscode', 'react', 'microsoft', 'trivago', 'spotify',)], axis=1)"
   ]
  },
  {
   "cell_type": "code",
   "execution_count": 7,
   "metadata": {},
   "outputs": [
    {
     "data": {
      "text/plain": [
       "<Axes: >"
      ]
     },
     "execution_count": 7,
     "metadata": {},
     "output_type": "execute_result"
    },
    {
     "data": {
      "image/png": "[encoded data removed]",
      "text/plain": [
       "<Figure size 640x480 with 1 Axes>"
      ]
     },
     "metadata": {},
     "output_type": "display_data"
    }
   ],
   "source": [
    "bounds.transpose().plot(kind='bar', stacked=True)"
   ]
  },
  {
   "cell_type": "code",
   "execution_count": 8,
   "metadata": {},
   "outputs": [],
   "source": [
    "bounds.transpose().to_csv('../reports/csv/bounds.csv', index_label='index', float_format='%g')"
   ]
  },
  {
   "cell_type": "code",
   "execution_count": null,
   "metadata": {},
   "outputs": [],
   "source": []
  }
 ],
 "metadata": {
  "kernelspec": {
   "display_name": "Python 3",
   "language": "python",
   "name": "python3"
  },
  "language_info": {
   "codemirror_mode": {
    "name": "ipython",
    "version": 3
   },
   "file_extension": ".py",
   "mimetype": "text/x-python",
   "name": "python",
   "nbconvert_exporter": "python",
   "pygments_lexer": "ipython3",
   "version": "3.12.4"
  },
  "orig_nbformat": 4
 },
 "nbformat": 4,
 "nbformat_minor": 2
}
